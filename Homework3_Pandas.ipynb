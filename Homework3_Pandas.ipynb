{
  "nbformat": 4,
  "nbformat_minor": 0,
  "metadata": {
    "colab": {
      "name": "Homework3_Pandas.ipynb",
      "provenance": [],
      "mount_file_id": "1YcXtbT6kJFfmsAWSpBpHYgplJxdpM8Oy",
      "authorship_tag": "ABX9TyN57UQpOO14Jl/v4l2mqdf9",
      "include_colab_link": true
    },
    "kernelspec": {
      "name": "python3",
      "display_name": "Python 3"
    },
    "language_info": {
      "name": "python"
    }
  },
  "cells": [
    {
      "cell_type": "markdown",
      "metadata": {
        "id": "view-in-github",
        "colab_type": "text"
      },
      "source": [
        "<a href=\"https://colab.research.google.com/github/thuhuong205201/Data_preparing/blob/main/Homework3_Pandas.ipynb\" target=\"_parent\"><img src=\"https://colab.research.google.com/assets/colab-badge.svg\" alt=\"Open In Colab\"/></a>"
      ]
    },
    {
      "cell_type": "code",
      "metadata": {
        "id": "0PnGtXcRYIa1"
      },
      "source": [
        "import pandas as pd\n"
      ],
      "execution_count": 1,
      "outputs": []
    },
    {
      "cell_type": "code",
      "metadata": {
        "colab": {
          "base_uri": "https://localhost:8080/",
          "height": 564
        },
        "id": "rKcFi7HfYQV5",
        "outputId": "c6b7b5bd-203e-4e1b-957c-7d9ec30abf7f"
      },
      "source": [
        "data = pd.read_csv(\"/content/drive/MyDrive/datapreparing/dataset/earthquakes.csv\")\n",
        "data.head()"
      ],
      "execution_count": 2,
      "outputs": [
        {
          "output_type": "execute_result",
          "data": {
            "text/html": [
              "<div>\n",
              "<style scoped>\n",
              "    .dataframe tbody tr th:only-of-type {\n",
              "        vertical-align: middle;\n",
              "    }\n",
              "\n",
              "    .dataframe tbody tr th {\n",
              "        vertical-align: top;\n",
              "    }\n",
              "\n",
              "    .dataframe thead th {\n",
              "        text-align: right;\n",
              "    }\n",
              "</style>\n",
              "<table border=\"1\" class=\"dataframe\">\n",
              "  <thead>\n",
              "    <tr style=\"text-align: right;\">\n",
              "      <th></th>\n",
              "      <th>alert</th>\n",
              "      <th>cdi</th>\n",
              "      <th>code</th>\n",
              "      <th>detail</th>\n",
              "      <th>dmin</th>\n",
              "      <th>felt</th>\n",
              "      <th>gap</th>\n",
              "      <th>ids</th>\n",
              "      <th>mag</th>\n",
              "      <th>magType</th>\n",
              "      <th>mmi</th>\n",
              "      <th>net</th>\n",
              "      <th>nst</th>\n",
              "      <th>place</th>\n",
              "      <th>rms</th>\n",
              "      <th>sig</th>\n",
              "      <th>sources</th>\n",
              "      <th>status</th>\n",
              "      <th>time</th>\n",
              "      <th>title</th>\n",
              "      <th>tsunami</th>\n",
              "      <th>type</th>\n",
              "      <th>types</th>\n",
              "      <th>tz</th>\n",
              "      <th>updated</th>\n",
              "      <th>url</th>\n",
              "    </tr>\n",
              "  </thead>\n",
              "  <tbody>\n",
              "    <tr>\n",
              "      <th>0</th>\n",
              "      <td>NaN</td>\n",
              "      <td>NaN</td>\n",
              "      <td>37389218</td>\n",
              "      <td>https://earthquake.usgs.gov/fdsnws/event/1/que...</td>\n",
              "      <td>0.008693</td>\n",
              "      <td>NaN</td>\n",
              "      <td>85.0</td>\n",
              "      <td>,ci37389218,</td>\n",
              "      <td>1.35</td>\n",
              "      <td>ml</td>\n",
              "      <td>NaN</td>\n",
              "      <td>ci</td>\n",
              "      <td>26.0</td>\n",
              "      <td>9km NE of Aguanga, CA</td>\n",
              "      <td>0.19</td>\n",
              "      <td>28</td>\n",
              "      <td>,ci,</td>\n",
              "      <td>automatic</td>\n",
              "      <td>1539475168010</td>\n",
              "      <td>M 1.4 - 9km NE of Aguanga, CA</td>\n",
              "      <td>0</td>\n",
              "      <td>earthquake</td>\n",
              "      <td>,geoserve,nearby-cities,origin,phase-data,</td>\n",
              "      <td>-480.0</td>\n",
              "      <td>1539475395144</td>\n",
              "      <td>https://earthquake.usgs.gov/earthquakes/eventp...</td>\n",
              "    </tr>\n",
              "    <tr>\n",
              "      <th>1</th>\n",
              "      <td>NaN</td>\n",
              "      <td>NaN</td>\n",
              "      <td>37389202</td>\n",
              "      <td>https://earthquake.usgs.gov/fdsnws/event/1/que...</td>\n",
              "      <td>0.020030</td>\n",
              "      <td>NaN</td>\n",
              "      <td>79.0</td>\n",
              "      <td>,ci37389202,</td>\n",
              "      <td>1.29</td>\n",
              "      <td>ml</td>\n",
              "      <td>NaN</td>\n",
              "      <td>ci</td>\n",
              "      <td>20.0</td>\n",
              "      <td>9km NE of Aguanga, CA</td>\n",
              "      <td>0.29</td>\n",
              "      <td>26</td>\n",
              "      <td>,ci,</td>\n",
              "      <td>automatic</td>\n",
              "      <td>1539475129610</td>\n",
              "      <td>M 1.3 - 9km NE of Aguanga, CA</td>\n",
              "      <td>0</td>\n",
              "      <td>earthquake</td>\n",
              "      <td>,geoserve,nearby-cities,origin,phase-data,</td>\n",
              "      <td>-480.0</td>\n",
              "      <td>1539475253925</td>\n",
              "      <td>https://earthquake.usgs.gov/earthquakes/eventp...</td>\n",
              "    </tr>\n",
              "    <tr>\n",
              "      <th>2</th>\n",
              "      <td>NaN</td>\n",
              "      <td>4.4</td>\n",
              "      <td>37389194</td>\n",
              "      <td>https://earthquake.usgs.gov/fdsnws/event/1/que...</td>\n",
              "      <td>0.021370</td>\n",
              "      <td>28.0</td>\n",
              "      <td>21.0</td>\n",
              "      <td>,ci37389194,</td>\n",
              "      <td>3.42</td>\n",
              "      <td>ml</td>\n",
              "      <td>NaN</td>\n",
              "      <td>ci</td>\n",
              "      <td>111.0</td>\n",
              "      <td>8km NE of Aguanga, CA</td>\n",
              "      <td>0.22</td>\n",
              "      <td>192</td>\n",
              "      <td>,ci,</td>\n",
              "      <td>automatic</td>\n",
              "      <td>1539475062610</td>\n",
              "      <td>M 3.4 - 8km NE of Aguanga, CA</td>\n",
              "      <td>0</td>\n",
              "      <td>earthquake</td>\n",
              "      <td>,dyfi,focal-mechanism,geoserve,nearby-cities,o...</td>\n",
              "      <td>-480.0</td>\n",
              "      <td>1539536756176</td>\n",
              "      <td>https://earthquake.usgs.gov/earthquakes/eventp...</td>\n",
              "    </tr>\n",
              "    <tr>\n",
              "      <th>3</th>\n",
              "      <td>NaN</td>\n",
              "      <td>NaN</td>\n",
              "      <td>37389186</td>\n",
              "      <td>https://earthquake.usgs.gov/fdsnws/event/1/que...</td>\n",
              "      <td>0.026180</td>\n",
              "      <td>NaN</td>\n",
              "      <td>39.0</td>\n",
              "      <td>,ci37389186,</td>\n",
              "      <td>0.44</td>\n",
              "      <td>ml</td>\n",
              "      <td>NaN</td>\n",
              "      <td>ci</td>\n",
              "      <td>26.0</td>\n",
              "      <td>9km NE of Aguanga, CA</td>\n",
              "      <td>0.17</td>\n",
              "      <td>3</td>\n",
              "      <td>,ci,</td>\n",
              "      <td>automatic</td>\n",
              "      <td>1539474978070</td>\n",
              "      <td>M 0.4 - 9km NE of Aguanga, CA</td>\n",
              "      <td>0</td>\n",
              "      <td>earthquake</td>\n",
              "      <td>,geoserve,nearby-cities,origin,phase-data,</td>\n",
              "      <td>-480.0</td>\n",
              "      <td>1539475196167</td>\n",
              "      <td>https://earthquake.usgs.gov/earthquakes/eventp...</td>\n",
              "    </tr>\n",
              "    <tr>\n",
              "      <th>4</th>\n",
              "      <td>NaN</td>\n",
              "      <td>NaN</td>\n",
              "      <td>73096941</td>\n",
              "      <td>https://earthquake.usgs.gov/fdsnws/event/1/que...</td>\n",
              "      <td>0.077990</td>\n",
              "      <td>NaN</td>\n",
              "      <td>192.0</td>\n",
              "      <td>,nc73096941,</td>\n",
              "      <td>2.16</td>\n",
              "      <td>md</td>\n",
              "      <td>NaN</td>\n",
              "      <td>nc</td>\n",
              "      <td>18.0</td>\n",
              "      <td>10km NW of Avenal, CA</td>\n",
              "      <td>0.05</td>\n",
              "      <td>72</td>\n",
              "      <td>,nc,</td>\n",
              "      <td>automatic</td>\n",
              "      <td>1539474716050</td>\n",
              "      <td>M 2.2 - 10km NW of Avenal, CA</td>\n",
              "      <td>0</td>\n",
              "      <td>earthquake</td>\n",
              "      <td>,geoserve,nearby-cities,origin,phase-data,scit...</td>\n",
              "      <td>-480.0</td>\n",
              "      <td>1539477547926</td>\n",
              "      <td>https://earthquake.usgs.gov/earthquakes/eventp...</td>\n",
              "    </tr>\n",
              "  </tbody>\n",
              "</table>\n",
              "</div>"
            ],
            "text/plain": [
              "  alert  cdi  ...        updated                                                url\n",
              "0   NaN  NaN  ...  1539475395144  https://earthquake.usgs.gov/earthquakes/eventp...\n",
              "1   NaN  NaN  ...  1539475253925  https://earthquake.usgs.gov/earthquakes/eventp...\n",
              "2   NaN  4.4  ...  1539536756176  https://earthquake.usgs.gov/earthquakes/eventp...\n",
              "3   NaN  NaN  ...  1539475196167  https://earthquake.usgs.gov/earthquakes/eventp...\n",
              "4   NaN  NaN  ...  1539477547926  https://earthquake.usgs.gov/earthquakes/eventp...\n",
              "\n",
              "[5 rows x 26 columns]"
            ]
          },
          "metadata": {},
          "execution_count": 2
        }
      ]
    },
    {
      "cell_type": "code",
      "metadata": {
        "colab": {
          "base_uri": "https://localhost:8080/"
        },
        "id": "7VSATl8RYS_C",
        "outputId": "a31b2b50-0b03-44d4-e584-fe97d3cf371b"
      },
      "source": [
        "data.shape"
      ],
      "execution_count": 3,
      "outputs": [
        {
          "output_type": "execute_result",
          "data": {
            "text/plain": [
              "(9332, 26)"
            ]
          },
          "metadata": {},
          "execution_count": 3
        }
      ]
    },
    {
      "cell_type": "code",
      "metadata": {
        "colab": {
          "base_uri": "https://localhost:8080/"
        },
        "id": "yiB5mPMXYVa-",
        "outputId": "131ad727-d5f1-49c9-a19f-758bead6978e"
      },
      "source": [
        "x = sum((data.magType == \"ml\") & (data.type == \"explosion\"))\n",
        "x"
      ],
      "execution_count": 4,
      "outputs": [
        {
          "output_type": "execute_result",
          "data": {
            "text/plain": [
              "79"
            ]
          },
          "metadata": {},
          "execution_count": 4
        }
      ]
    },
    {
      "cell_type": "markdown",
      "metadata": {
        "id": "g_ql7eUqYauT"
      },
      "source": [
        "2.Calculate the mean of mag in Alaska and the distance is smaller than 100km, example: \"62km W of Cantwell, Alaska\"."
      ]
    },
    {
      "cell_type": "code",
      "metadata": {
        "colab": {
          "base_uri": "https://localhost:8080/"
        },
        "id": "8-o32orpYX1u",
        "outputId": "e2b8a562-ad84-4cd0-db53-91e788e47314"
      },
      "source": [
        "output = data.mag[(data.place.str.contains(\"Alaska\")) & (~data.place.str.contains(\"\\d{3,}\", regex=True))].mean()\n",
        "output"
      ],
      "execution_count": 5,
      "outputs": [
        {
          "output_type": "execute_result",
          "data": {
            "text/plain": [
              "1.3744199088678577"
            ]
          },
          "metadata": {},
          "execution_count": 5
        }
      ]
    },
    {
      "cell_type": "markdown",
      "metadata": {
        "id": "8QU4fu-nYgrq"
      },
      "source": [
        "3.Calculate the mean of mag in each quarter (q1:m1-m3, q2: m4-m6, q3: m7-m9, q4: m10-12), the \"time\" field stores the milliseconds from 1/1/1970, hint: timestamp."
      ]
    },
    {
      "cell_type": "code",
      "metadata": {
        "id": "1Mv4QrLcYdzG"
      },
      "source": [
        "from datetime import datetime"
      ],
      "execution_count": 6,
      "outputs": []
    },
    {
      "cell_type": "code",
      "metadata": {
        "colab": {
          "base_uri": "https://localhost:8080/"
        },
        "id": "ru2-lZKXYkIw",
        "outputId": "53673d0e-327f-4c08-b940-3ea7b69acee9"
      },
      "source": [
        "time = pd.to_datetime(data.time, unit=\"ms\")\n",
        "time"
      ],
      "execution_count": 13,
      "outputs": [
        {
          "output_type": "execute_result",
          "data": {
            "text/plain": [
              "0      2018-10-13 23:59:28.010\n",
              "1      2018-10-13 23:58:49.610\n",
              "2      2018-10-13 23:57:42.610\n",
              "3      2018-10-13 23:56:18.070\n",
              "4      2018-10-13 23:51:56.050\n",
              "                 ...          \n",
              "9327   2018-09-18 00:23:48.060\n",
              "9328   2018-09-18 00:22:15.130\n",
              "9329   2018-09-18 00:18:28.180\n",
              "9330   2018-09-18 00:12:25.350\n",
              "9331   2018-09-18 00:01:04.470\n",
              "Name: time, Length: 9332, dtype: datetime64[ns]"
            ]
          },
          "metadata": {},
          "execution_count": 13
        }
      ]
    },
    {
      "cell_type": "code",
      "metadata": {
        "id": "0loZESEiZZYC"
      },
      "source": [
        "data['time'] = time"
      ],
      "execution_count": null,
      "outputs": []
    },
    {
      "cell_type": "code",
      "metadata": {
        "colab": {
          "base_uri": "https://localhost:8080/"
        },
        "id": "KebUgsedYmC-",
        "outputId": "ab6b839e-6fbb-48c4-babe-80782540315d"
      },
      "source": [
        "x0 = pd.DatetimeIndex(time).month\n",
        "x0"
      ],
      "execution_count": 14,
      "outputs": [
        {
          "output_type": "execute_result",
          "data": {
            "text/plain": [
              "Int64Index([10, 10, 10, 10, 10, 10, 10, 10, 10, 10,\n",
              "            ...\n",
              "             9,  9,  9,  9,  9,  9,  9,  9,  9,  9],\n",
              "           dtype='int64', name='time', length=9332)"
            ]
          },
          "metadata": {},
          "execution_count": 14
        }
      ]
    },
    {
      "cell_type": "code",
      "metadata": {
        "colab": {
          "base_uri": "https://localhost:8080/"
        },
        "id": "WtCCVD0XYoFU",
        "outputId": "daff44b8-b07b-4577-f3c0-d1f4aba86e4c"
      },
      "source": [
        "q1 = data.mag[(x0>=1)&(x0<=3)].mean()\n",
        "q1"
      ],
      "execution_count": 15,
      "outputs": [
        {
          "output_type": "execute_result",
          "data": {
            "text/plain": [
              "nan"
            ]
          },
          "metadata": {},
          "execution_count": 15
        }
      ]
    },
    {
      "cell_type": "code",
      "metadata": {
        "colab": {
          "base_uri": "https://localhost:8080/"
        },
        "id": "3CNpzCWaZiyA",
        "outputId": "95549180-58dd-4ef7-af36-cd551d78021f"
      },
      "source": [
        "q2 = data.mag[(x0>=4)&(x0<=6)].mean()\n",
        "q2\n"
      ],
      "execution_count": 16,
      "outputs": [
        {
          "output_type": "execute_result",
          "data": {
            "text/plain": [
              "nan"
            ]
          },
          "metadata": {},
          "execution_count": 16
        }
      ]
    },
    {
      "cell_type": "code",
      "metadata": {
        "colab": {
          "base_uri": "https://localhost:8080/"
        },
        "id": "3Bdgpm-uZkX7",
        "outputId": "d519d2f5-3c1a-4372-c3d0-f501e3c6354b"
      },
      "source": [
        "q3 = data.mag[(x0>=7)&(x0<=9)].mean()\n",
        "q3\n"
      ],
      "execution_count": 17,
      "outputs": [
        {
          "output_type": "execute_result",
          "data": {
            "text/plain": [
              "1.466735124760082"
            ]
          },
          "metadata": {},
          "execution_count": 17
        }
      ]
    },
    {
      "cell_type": "code",
      "metadata": {
        "colab": {
          "base_uri": "https://localhost:8080/"
        },
        "id": "iPHzx_mVZl3Q",
        "outputId": "f47206a9-808f-45e0-ec08-2367572ffd82"
      },
      "source": [
        "q4 = data.mag[(x0>=10)&(x0<=12)].mean()\n",
        "q4\n"
      ],
      "execution_count": 18,
      "outputs": [
        {
          "output_type": "execute_result",
          "data": {
            "text/plain": [
              "1.5360446493569568"
            ]
          },
          "metadata": {},
          "execution_count": 18
        }
      ]
    },
    {
      "cell_type": "code",
      "metadata": {
        "id": "o94WamI-ZnKM"
      },
      "source": [
        ""
      ],
      "execution_count": null,
      "outputs": []
    }
  ]
}